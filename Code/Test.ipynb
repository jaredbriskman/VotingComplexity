{
 "cells": [
  {
   "cell_type": "code",
   "execution_count": 1,
   "metadata": {
    "collapsed": false
   },
   "outputs": [],
   "source": [
    "import numpy as np\n",
    "import matplotlib.pyplot as plt\n",
    "%matplotlib inline"
   ]
  },
  {
   "cell_type": "code",
   "execution_count": 2,
   "metadata": {
    "collapsed": false
   },
   "outputs": [],
   "source": [
    "class votePop:\n",
    "    \n",
    "    def __init__(self,n=1000,center=None,cov=None):\n",
    "        self.N = n\n",
    "        if center is None:\n",
    "            self.center = [0,0]\n",
    "        else:\n",
    "            self.center = center\n",
    "\n",
    "        if cov is None:\n",
    "            self.cov = [[1000,0],[0,1000]]\n",
    "        else:\n",
    "            self.cov = cov\n",
    "\n",
    "        self.voters = np.random.multivariate_normal(self.center,self.cov,self.N)\n",
    "        \n",
    "    def show(self):\n",
    "        x,y = self.voters.T\n",
    "        plt.plot(x,y,'x')\n",
    "        plt.axis('equal')\n",
    "        plt.show()\n"
   ]
  },
  {
   "cell_type": "code",
   "execution_count": 3,
   "metadata": {
    "collapsed": true
   },
   "outputs": [],
   "source": [
    "class candidate:\n",
    "    \n",
    "    def __init__(self,pos=None):\n",
    "        if pos is None:\n",
    "            self.pos = np.array([0,0])\n",
    "        else:\n",
    "            self.pos = np.array(pos)\n",
    "        self.votes = None"
   ]
  },
  {
   "cell_type": "code",
   "execution_count": 4,
   "metadata": {
    "collapsed": false
   },
   "outputs": [],
   "source": [
    "def election(population, candidates, method=None):\n",
    "    if method is None:\n",
    "        method = 'plurality'\n",
    "    \n",
    "    \n",
    "    positions = np.array([c.pos for c in candidates])\n",
    "    for c in candidates:\n",
    "        c.votes=0\n",
    "    voters = population.voters\n",
    "    \n",
    "    if method is 'plurality':\n",
    "        for voter in voters:\n",
    "            distances = np.linalg.norm(positions - voter, axis=-1) #along rows\n",
    "            candidates[np.argmin(distances)].votes += 1\n",
    "            \n",
    "    return np.argmax([c.votes for c in candidates])"
   ]
  },
  {
   "cell_type": "code",
   "execution_count": 5,
   "metadata": {
    "collapsed": false
   },
   "outputs": [
    {
     "data": {
      "image/png": "[encoded data removed]",
      "text/plain": [
       "<matplotlib.figure.Figure at 0x7f3926216be0>"
      ]
     },
     "metadata": {},
     "output_type": "display_data"
    },
    {
     "data": {
      "text/plain": [
       "0"
      ]
     },
     "execution_count": 5,
     "metadata": {},
     "output_type": "execute_result"
    }
   ],
   "source": [
    "c1 = candidate()\n",
    "c2 = candidate([1,1])\n",
    "pop = votePop(n=2000,center=[-100.5,-100])\n",
    "pop.show()\n",
    "election(pop,[c1,c2])"
   ]
  },
  {
   "cell_type": "code",
   "execution_count": 6,
   "metadata": {
    "collapsed": false
   },
   "outputs": [],
   "source": [
    "def electionSweep(candidates, size=None, xres=50, yres=None , n=1000): #TODO:refactor with kwargs later\n",
    "    if size is None:\n",
    "        size = [[-1000,1000],[-1000,1000]]\n",
    "    [[xmin,xmax],[ymin,ymax]] = size\n",
    "    \n",
    "    if yres is None:\n",
    "        yres = xres\n",
    "    \n",
    "    xs, ys = (np.linspace(xmin, xmax, num=xres), np.linspace(ymin, ymax, num=yres))\n",
    "    \n",
    "#     res = np.fromfunction(lambda x,y: election(votePop(n,center=[x,y])),((xmax-xmin) // xstep, (ymax-ymin) // ystep))\n",
    "    res = np.zeros( ((xmax-xmin)//xstep, (ymax-ymin)//ystep) )\n",
    "    for x in range(xmin, xmax, xstep):\n",
    "        for y in range(ymin, ymax, ystep):\n",
    "            pop = votePop(n,center=[x,y])\n",
    "            res[x//xstep,y//ystep] = election(pop, candidates)\n",
    "                    \n",
    "    return res"
   ]
  },
  {
   "cell_type": "code",
   "execution_count": 7,
   "metadata": {
    "collapsed": true
   },
   "outputs": [],
   "source": [
    "c1 = candidate([0,0])\n",
    "c2 = candidate([200,200])\n",
    "c3 = candidate([-200,-200])"
   ]
  },
  {
   "cell_type": "code",
   "execution_count": 8,
   "metadata": {
    "collapsed": false
   },
   "outputs": [],
   "source": [
    "a = electionSweep([c1,c2,c3])\n"
   ]
  },
  {
   "cell_type": "code",
   "execution_count": 9,
   "metadata": {
    "collapsed": true
   },
   "outputs": [],
   "source": [
    "b = np.repeat(np.repeat(a,50, axis=0), 50, axis=1)"
   ]
  },
  {
   "cell_type": "code",
   "execution_count": 11,
   "metadata": {
    "collapsed": false
   },
   "outputs": [
    {
     "data": {
      "image/png": "[encoded data removed]",
      "text/plain": [
       "<matplotlib.figure.Figure at 0x7f392381cfd0>"
      ]
     },
     "metadata": {},
     "output_type": "display_data"
    }
   ],
   "source": [
    "plt.imshow(b, interpolation='none', cmap='Reds')\n",
    "plt.grid(False)"
   ]
  },
  {
   "cell_type": "code",
   "execution_count": null,
   "metadata": {
    "collapsed": true
   },
   "outputs": [],
   "source": []
  }
 ],
 "metadata": {
  "anaconda-cloud": {},
  "kernelspec": {
   "display_name": "Python [Root]",
   "language": "python",
   "name": "Python [Root]"
  },
  "language_info": {
   "codemirror_mode": {
    "name": "ipython",
    "version": 3
   },
   "file_extension": ".py",
   "mimetype": "text/x-python",
   "name": "python",
   "nbconvert_exporter": "python",
   "pygments_lexer": "ipython3",
   "version": "3.5.2"
  }
 },
 "nbformat": 4,
 "nbformat_minor": 0
}
