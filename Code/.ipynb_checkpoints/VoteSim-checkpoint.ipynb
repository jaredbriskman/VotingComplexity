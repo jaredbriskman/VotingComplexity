{
 "cells": [
  {
   "cell_type": "code",
   "execution_count": 57,
   "metadata": {
    "collapsed": false
   },
   "outputs": [],
   "source": [
    "import numpy as np\n",
    "import matplotlib.pyplot as plt\n",
    "%matplotlib inline"
   ]
  },
  {
   "cell_type": "code",
   "execution_count": 224,
   "metadata": {
    "collapsed": false
   },
   "outputs": [],
   "source": [
    "np.random.seed(4)"
   ]
  },
  {
   "cell_type": "code",
   "execution_count": 216,
   "metadata": {
    "collapsed": false
   },
   "outputs": [],
   "source": [
    "class votePop:\n",
    "    \n",
    "    def __init__(self,n=2000,center=None,cov=None):\n",
    "        self.N = n\n",
    "        if center is None:\n",
    "            self.center = [0,0]\n",
    "        else:\n",
    "            self.center = center\n",
    "\n",
    "        if cov is None:\n",
    "            self.cov = [[30000,0],[0,30000]]\n",
    "        else:\n",
    "            self.cov = cov\n",
    "\n",
    "        self.voters = np.random.multivariate_normal(self.center,self.cov,self.N)\n",
    "        \n",
    "    def show(self, cs=None):\n",
    "        x,y = self.voters.T\n",
    "        plt.plot(x,y,'x', zorder=-1)\n",
    "        plt.axis('equal')\n",
    "        if cs is not None:\n",
    "            pos = np.array([cs[k].pos for k in cs])\n",
    "            pos = pos[pos[:,0].argsort()]\n",
    "            cxs, cys = pos.T\n",
    "            plt.scatter(cxs,cys, c=sorted(cs.keys()), zorder=1, cmap='Reds')\n",
    "        plt.show()"
   ]
  },
  {
   "cell_type": "code",
   "execution_count": 217,
   "metadata": {
    "collapsed": false
   },
   "outputs": [],
   "source": [
    "class candidate:\n",
    "    \n",
    "    def __init__(self,pos=None, ID=None):\n",
    "        if pos is None:\n",
    "            self.pos = np.array([0,0])\n",
    "        else:\n",
    "            self.pos = np.array(pos)\n",
    "        self.votes = None\n",
    "        \n",
    "        self.ID = ID\n",
    "        if ID is None:\n",
    "            self.ID = np.random.randn()\n",
    "        \n",
    "    def __str__(self):\n",
    "        return str(self.pos) + ':' + str(self.ID)"
   ]
  },
  {
   "cell_type": "code",
   "execution_count": 218,
   "metadata": {
    "collapsed": false
   },
   "outputs": [],
   "source": [
    "def election(population, candidates, ballot=None, method=None):\n",
    "    if method is None:\n",
    "        method = 'plurality'\n",
    "    if ballot is None:\n",
    "            ballot = candidates\n",
    "    \n",
    "    positions = np.array([candidates[k].pos for k in candidates])\n",
    "    voters = population.voters\n",
    "    \n",
    "    #zero out votes\n",
    "    for c in candidates.values():\n",
    "        c.votes=0\n",
    "    \n",
    "    if method is 'IRV' or 'plurality': #Euclidian Voting\n",
    "        for voter in voters:\n",
    "            distances = np.linalg.norm(positions - voter, axis=-1) #along rows\n",
    "            candidates[np.argmin(distances)].votes += 1\n",
    "            \n",
    "        res=[candidates[k].votes for k in candidates]\n",
    "        winner = np.argmax(res)\n",
    "            \n",
    "        if method is 'IRV':\n",
    "#             for k, v in candidates.items():\n",
    "#                 print(k, v)\n",
    "            if candidates[winner].votes < (population.N // 2): #not majority\n",
    "                #print(\"pop={},c={}\".format(population.N // 2,res))\n",
    "                loser = np.argmin(res)\n",
    "                nextRound = dict()\n",
    "                i = 0;\n",
    "                for k in candidates: \n",
    "                    if candidates[k].ID is not candidates[loser].ID: #left shift\n",
    "                        nextRound[i] = candidates[k]\n",
    "                        i += 1\n",
    "                        \n",
    "                winner = election(population, nextRound, ballot, method='IRV')\n",
    "            \n",
    "            \n",
    "    return ballot[winner].ID"
   ]
  },
  {
   "cell_type": "code",
   "execution_count": 219,
   "metadata": {
    "collapsed": false
   },
   "outputs": [],
   "source": [
    "class electionSweep():\n",
    "    def __init__(self, candidates, size=None, xres=25, yres=None , n=2000): #TODO:refactor with kwargs later\n",
    "        if size is None:\n",
    "            size = [[-1000,1000],[-1000,1000]]\n",
    "        [[self.xmin,self.xmax],[self.ymin,self.ymax]] = size\n",
    "        \n",
    "        self.xres = xres\n",
    "        self.yres = yres\n",
    "        if yres is None:\n",
    "            self.yres = self.xres\n",
    "            \n",
    "        \n",
    "        self.N = n\n",
    "        self.C = candidates\n",
    "        self.Cinv = {v: k for k, v in self.C.items()} #TODO:Fix ugly\n",
    "        self.ballot={candidates[k].ID:k for k in candidates}\n",
    "\n",
    "        self.xs = np.linspace(self.xmin, self.xmax, num=self.xres)\n",
    "        self.ys = np.linspace(self.ymin, self.ymax, num=self.yres)\n",
    "        self.res = np.zeros((self.xres, self.yres))\n",
    "        \n",
    "    def run(self, style=None):\n",
    "        for x in range(self.xres):\n",
    "            for y in range(self.yres):\n",
    "                pop = votePop(self.N,center=[self.xs[x],self.ys[y]])\n",
    "                #self.res[self.xres-x-1,y] = self.ballot[election(pop, self.C, method=style)] #Array filling vs image indexing\n",
    "                self.res[x,y] = self.ballot[election(pop, self.C, method=style)]\n",
    "        self.res = np.fliplr(np.rot90(self.res, 3))\n",
    "        \n",
    "    def show(self):\n",
    "        pos = np.array([self.C[k].pos for k in self.C])\n",
    "        pos = pos[pos[:,0].argsort()]\n",
    "        cxs, cys = pos.T\n",
    "        plt.imshow(self.res, interpolation='none', origin='lower', cmap='Reds', extent=[self.xmin,self.xmax,self.ymin,self.ymax])\n",
    "        plt.scatter(cxs,cys,c=sorted(self.C.keys()), cmap='Reds')\n",
    "        plt.grid(False)"
   ]
  },
  {
   "cell_type": "code",
   "execution_count": 225,
   "metadata": {
    "collapsed": false
   },
   "outputs": [],
   "source": [
    "c1= {1:candidate([-100,-600], ID=1),0:candidate([-400,-0], ID=0),2:candidate([200,-50], ID=2),3:candidate([400,50], ID=3)}\n",
    "a = electionSweep(c1, xres=100)"
   ]
  },
  {
   "cell_type": "code",
   "execution_count": null,
   "metadata": {
    "collapsed": false
   },
   "outputs": [],
   "source": [
    "a.run(style='IRV')\n",
    "a.show()"
   ]
  },
  {
   "cell_type": "code",
   "execution_count": 222,
   "metadata": {
    "collapsed": false
   },
   "outputs": [
    {
     "data": {
      "image/png": "[encoded data removed]",
      "text/plain": [
       "<matplotlib.figure.Figure at 0x7f09d5379e48>"
      ]
     },
     "metadata": {},
     "output_type": "display_data"
    }
   ],
   "source": [
    "a.run()\n",
    "a.show()"
   ]
  },
  {
   "cell_type": "code",
   "execution_count": 206,
   "metadata": {
    "collapsed": false
   },
   "outputs": [
    {
     "data": {
      "image/png": "[encoded data removed]",
      "text/plain": [
       "<matplotlib.figure.Figure at 0x7f09d99126d8>"
      ]
     },
     "metadata": {},
     "output_type": "display_data"
    }
   ],
   "source": [
    "a.run()\n",
    "a.show()"
   ]
  },
  {
   "cell_type": "code",
   "execution_count": 189,
   "metadata": {
    "collapsed": false
   },
   "outputs": [
    {
     "name": "stdout",
     "output_type": "stream",
     "text": [
      "pop=500,c=[491, 495, 14]\n",
      "pop=500,c=[486, 467, 47]\n",
      "pop=500,c=[475, 446, 79]\n",
      "pop=500,c=[493, 396, 111]\n",
      "pop=500,c=[493, 364, 143]\n",
      "pop=500,c=[419, 459, 122]\n",
      "pop=500,c=[435, 442, 123]\n",
      "pop=500,c=[441, 391, 168]\n",
      "pop=500,c=[463, 348, 189]\n",
      "pop=500,c=[463, 326, 211]\n",
      "pop=500,c=[477, 291, 232]\n",
      "pop=500,c=[479, 169, 352]\n",
      "pop=500,c=[496, 113, 391]\n",
      "pop=500,c=[492, 61, 447]\n",
      "pop=500,c=[494, 33, 473]\n",
      "pop=500,c=[491, 17, 492]\n",
      "pop=500,c=[391, 473, 136]\n",
      "pop=500,c=[392, 439, 169]\n",
      "pop=500,c=[402, 362, 236]\n",
      "pop=500,c=[408, 353, 239]\n",
      "pop=500,c=[410, 316, 274]\n",
      "pop=500,c=[444, 252, 304]\n",
      "pop=500,c=[439, 222, 339]\n",
      "pop=500,c=[440, 167, 393]\n",
      "pop=500,c=[417, 150, 433]\n",
      "pop=500,c=[413, 138, 449]\n",
      "pop=500,c=[433, 93, 474]\n",
      "pop=500,c=[309, 453, 238]\n",
      "pop=500,c=[311, 409, 280]\n",
      "pop=500,c=[310, 365, 325]\n",
      "pop=500,c=[372, 311, 317]\n",
      "pop=500,c=[346, 292, 362]\n",
      "pop=500,c=[366, 238, 396]\n",
      "pop=500,c=[356, 185, 459]\n",
      "pop=500,c=[360, 162, 478]\n",
      "pop=500,c=[253, 476, 271]\n",
      "pop=500,c=[246, 439, 315]\n",
      "pop=500,c=[255, 366, 379]\n",
      "pop=500,c=[265, 334, 401]\n",
      "pop=500,c=[304, 275, 421]\n",
      "pop=500,c=[273, 234, 493]\n",
      "pop=500,c=[212, 457, 331]\n",
      "pop=500,c=[195, 421, 384]\n",
      "pop=500,c=[206, 374, 420]\n",
      "pop=500,c=[218, 322, 460]\n",
      "pop=500,c=[235, 277, 488]\n",
      "pop=500,c=[142, 468, 390]\n",
      "pop=500,c=[150, 412, 438]\n",
      "pop=500,c=[157, 374, 469]\n",
      "pop=500,c=[102, 461, 437]\n",
      "pop=500,c=[134, 385, 481]\n",
      "pop=500,c=[80, 432, 488]\n",
      "pop=500,c=[59, 454, 487]\n",
      "pop=500,c=[42, 468, 490]\n",
      "pop=500,c=[22, 485, 493]\n"
     ]
    },
    {
     "data": {
      "image/png": "[encoded data removed]",
      "text/plain": [
       "<matplotlib.figure.Figure at 0x7f09d7387668>"
      ]
     },
     "metadata": {},
     "output_type": "display_data"
    }
   ],
   "source": [
    "c1= {1:candidate([400,-100], ID=1),0:candidate([-400,50], ID=0),2:candidate([600,100], ID=2)}\n",
    "a = electionSweep(c1,xres=50)\n",
    "a.run(style='IRV')\n",
    "a.show()"
   ]
  },
  {
   "cell_type": "code",
   "execution_count": 214,
   "metadata": {
    "collapsed": false
   },
   "outputs": [
    {
     "data": {
      "image/png": "[encoded data removed]",
      "text/plain": [
       "<matplotlib.figure.Figure at 0x7f09d52fa9e8>"
      ]
     },
     "metadata": {},
     "output_type": "display_data"
    }
   ],
   "source": [
    "c1= {0:candidate([400,-150], ID=0),1:candidate([-400,-50], ID=1),2:candidate([600,0], ID=2)}\n",
    "pop = votePop(n=2000,center=[0,0])\n",
    "pop.show(cs=c1)"
   ]
  },
  {
   "cell_type": "code",
   "execution_count": null,
   "metadata": {
    "collapsed": true
   },
   "outputs": [],
   "source": []
  }
 ],
 "metadata": {
  "anaconda-cloud": {},
  "kernelspec": {
   "display_name": "Python [Root]",
   "language": "python",
   "name": "Python [Root]"
  },
  "language_info": {
   "codemirror_mode": {
    "name": "ipython",
    "version": 3
   },
   "file_extension": ".py",
   "mimetype": "text/x-python",
   "name": "python",
   "nbconvert_exporter": "python",
   "pygments_lexer": "ipython3",
   "version": "3.5.2"
  }
 },
 "nbformat": 4,
 "nbformat_minor": 0
}
