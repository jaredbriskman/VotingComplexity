{
 "cells": [
  {
   "cell_type": "code",
   "execution_count": 1,
   "metadata": {
    "collapsed": false
   },
   "outputs": [],
   "source": [
    "import numpy as np\n",
    "import matplotlib.pyplot as plt\n",
    "%matplotlib inline"
   ]
  },
  {
   "cell_type": "code",
   "execution_count": 2,
   "metadata": {
    "collapsed": false
   },
   "outputs": [],
   "source": [
    "class votePop:\n",
    "    \n",
    "    def __init__(self,n=1000,center=None,cov=None):\n",
    "        self.N = n\n",
    "        if center is None:\n",
    "            self.center = [0,0]\n",
    "        else:\n",
    "            self.center = center\n",
    "\n",
    "        if cov is None:\n",
    "            self.cov = [[1000,0],[0,1000]]\n",
    "        else:\n",
    "            self.cov = cov\n",
    "\n",
    "        self.voters = np.random.multivariate_normal(self.center,self.cov,self.N)\n",
    "        \n",
    "    def show(self):\n",
    "        x,y = self.voters.T\n",
    "        plt.plot(x,y,'x')\n",
    "        plt.axis('equal')\n",
    "        plt.show()\n"
   ]
  },
  {
   "cell_type": "code",
   "execution_count": 3,
   "metadata": {
    "collapsed": true
   },
   "outputs": [],
   "source": [
    "class candidate:\n",
    "    \n",
    "    def __init__(self,pos=None):\n",
    "        if pos is None:\n",
    "            self.pos = np.array([0,0])\n",
    "        else:\n",
    "            self.pos = np.array(pos)\n",
    "        self.votes = None"
   ]
  },
  {
   "cell_type": "code",
   "execution_count": 83,
   "metadata": {
    "collapsed": true
   },
   "outputs": [],
   "source": [
    "def removekey(d, key):\n",
    "    r = dict(d)\n",
    "    del r[key]\n",
    "    return r"
   ]
  },
  {
   "cell_type": "code",
   "execution_count": 103,
   "metadata": {
    "collapsed": false
   },
   "outputs": [],
   "source": [
    "def election(population, candidates, method=None):\n",
    "    if method is None:\n",
    "        method = 'plurality'\n",
    "    \n",
    "    \n",
    "    positions = np.array([candidates[k].pos for k in candidates])\n",
    "    for c in candidates.values():\n",
    "        c.votes=0\n",
    "    voters = population.voters\n",
    "    \n",
    "    if method is 'IRV' or 'plurality':\n",
    "        for voter in voters:\n",
    "            distances = np.linalg.norm(positions - voter, axis=-1) #along rows\n",
    "            candidates[np.argmin(distances)].votes += 1\n",
    "            winner = np.argmax([candidates[k].votes for k in candidates])\n",
    "            \n",
    "        if method is 'IRV':\n",
    "            if candidates[winner].votes < (population.N / 2):\n",
    "                loser = np.argmin([candidates[k].votes for k in candidates])\n",
    "                \n",
    "                nextRound = dict()\n",
    "                i = 0;\n",
    "                for k in candidates:\n",
    "                    if k is not loser:\n",
    "                        i += 1\n",
    "                        nextRound[i:candidates[k]]\n",
    "                        \n",
    "                winner = election(population, nextRound, method='IRV')\n",
    "            \n",
    "            \n",
    "    return winner"
   ]
  },
  {
   "cell_type": "code",
   "execution_count": 104,
   "metadata": {
    "collapsed": false
   },
   "outputs": [],
   "source": [
    "class electionSweep():\n",
    "    def __init__(self, candidates, size=None, xres=25, yres=None , n=1000): #TODO:refactor with kwargs later\n",
    "        if size is None:\n",
    "            size = [[-1000,1000],[-1000,1000]]\n",
    "        [[self.xmin,self.xmax],[self.ymin,self.ymax]] = size\n",
    "        \n",
    "        self.xres = xres\n",
    "        if yres is None:\n",
    "            self.yres = self.xres\n",
    "        \n",
    "        self.N = n\n",
    "        self.C = candidates\n",
    "\n",
    "        self.xs = np.linspace(self.xmin, self.xmax, num=self.xres)\n",
    "        self.ys = np.linspace(self.ymin, self.ymax, num=self.yres)\n",
    "        self.res = np.zeros((self.xres, self.yres))\n",
    "        \n",
    "    def run(self, style=None):\n",
    "        for x in range(self.xres):\n",
    "            for y in range(self.yres):\n",
    "                pop = votePop(self.N,center=[self.xs[x],self.ys[y]])\n",
    "                self.res[self.xres-x-1,y] = election(pop, self.C, method=style) #Array filling vs image indexing\n",
    "    \n",
    "    def show(self):\n",
    "        print (np.array([c.pos for c in self.C]))\n",
    "        cxs, cys = np.array([self.C[k].pos for k in self.C]).T\n",
    "        plt.imshow(self.res, interpolation='none', cmap='Reds', extent=[self.xmin,self.xmax,self.ymin,self.ymax])\n",
    "        plt.scatter(cxs,cys)\n",
    "        plt.grid(False)\n",
    "        print(cxs,cys)"
   ]
  },
  {
   "cell_type": "code",
   "execution_count": 105,
   "metadata": {
    "collapsed": true
   },
   "outputs": [],
   "source": [
    "c1= {5:candidate([0,0]),1:candidate([300,100]),2:candidate([-100,-200])}\n",
    "a = electionSweep(c1)"
   ]
  },
  {
   "cell_type": "code",
   "execution_count": 106,
   "metadata": {
    "collapsed": false
   },
   "outputs": [
    {
     "ename": "KeyError",
     "evalue": "0",
     "output_type": "error",
     "traceback": [
      "\u001b[1;31m---------------------------------------------------------------------------\u001b[0m",
      "\u001b[1;31mKeyError\u001b[0m                                  Traceback (most recent call last)",
      "\u001b[1;32m<ipython-input-106-7d945c79e5e1>\u001b[0m in \u001b[0;36m<module>\u001b[1;34m()\u001b[0m\n\u001b[1;32m----> 1\u001b[1;33m \u001b[0ma\u001b[0m\u001b[1;33m.\u001b[0m\u001b[0mrun\u001b[0m\u001b[1;33m(\u001b[0m\u001b[1;34m'IRV'\u001b[0m\u001b[1;33m)\u001b[0m\u001b[1;33m\u001b[0m\u001b[0m\n\u001b[0m",
      "\u001b[1;32m<ipython-input-104-e7fc8f4e237b>\u001b[0m in \u001b[0;36mrun\u001b[1;34m(self, style)\u001b[0m\n\u001b[0;32m     20\u001b[0m             \u001b[1;32mfor\u001b[0m \u001b[0my\u001b[0m \u001b[1;32min\u001b[0m \u001b[0mrange\u001b[0m\u001b[1;33m(\u001b[0m\u001b[0mself\u001b[0m\u001b[1;33m.\u001b[0m\u001b[0myres\u001b[0m\u001b[1;33m)\u001b[0m\u001b[1;33m:\u001b[0m\u001b[1;33m\u001b[0m\u001b[0m\n\u001b[0;32m     21\u001b[0m                 \u001b[0mpop\u001b[0m \u001b[1;33m=\u001b[0m \u001b[0mvotePop\u001b[0m\u001b[1;33m(\u001b[0m\u001b[0mself\u001b[0m\u001b[1;33m.\u001b[0m\u001b[0mN\u001b[0m\u001b[1;33m,\u001b[0m\u001b[0mcenter\u001b[0m\u001b[1;33m=\u001b[0m\u001b[1;33m[\u001b[0m\u001b[0mself\u001b[0m\u001b[1;33m.\u001b[0m\u001b[0mxs\u001b[0m\u001b[1;33m[\u001b[0m\u001b[0mx\u001b[0m\u001b[1;33m]\u001b[0m\u001b[1;33m,\u001b[0m\u001b[0mself\u001b[0m\u001b[1;33m.\u001b[0m\u001b[0mys\u001b[0m\u001b[1;33m[\u001b[0m\u001b[0my\u001b[0m\u001b[1;33m]\u001b[0m\u001b[1;33m]\u001b[0m\u001b[1;33m)\u001b[0m\u001b[1;33m\u001b[0m\u001b[0m\n\u001b[1;32m---> 22\u001b[1;33m                 \u001b[0mself\u001b[0m\u001b[1;33m.\u001b[0m\u001b[0mres\u001b[0m\u001b[1;33m[\u001b[0m\u001b[0mself\u001b[0m\u001b[1;33m.\u001b[0m\u001b[0mxres\u001b[0m\u001b[1;33m-\u001b[0m\u001b[0mx\u001b[0m\u001b[1;33m-\u001b[0m\u001b[1;36m1\u001b[0m\u001b[1;33m,\u001b[0m\u001b[0my\u001b[0m\u001b[1;33m]\u001b[0m \u001b[1;33m=\u001b[0m \u001b[0melection\u001b[0m\u001b[1;33m(\u001b[0m\u001b[0mpop\u001b[0m\u001b[1;33m,\u001b[0m \u001b[0mself\u001b[0m\u001b[1;33m.\u001b[0m\u001b[0mC\u001b[0m\u001b[1;33m,\u001b[0m \u001b[0mmethod\u001b[0m\u001b[1;33m=\u001b[0m\u001b[0mstyle\u001b[0m\u001b[1;33m)\u001b[0m \u001b[1;31m#Array filling vs image indexing\u001b[0m\u001b[1;33m\u001b[0m\u001b[0m\n\u001b[0m\u001b[0;32m     23\u001b[0m \u001b[1;33m\u001b[0m\u001b[0m\n\u001b[0;32m     24\u001b[0m     \u001b[1;32mdef\u001b[0m \u001b[0mshow\u001b[0m\u001b[1;33m(\u001b[0m\u001b[0mself\u001b[0m\u001b[1;33m)\u001b[0m\u001b[1;33m:\u001b[0m\u001b[1;33m\u001b[0m\u001b[0m\n",
      "\u001b[1;32m<ipython-input-103-a822d169aa93>\u001b[0m in \u001b[0;36melection\u001b[1;34m(population, candidates, method)\u001b[0m\n\u001b[0;32m     16\u001b[0m \u001b[1;33m\u001b[0m\u001b[0m\n\u001b[0;32m     17\u001b[0m         \u001b[1;32mif\u001b[0m \u001b[0mmethod\u001b[0m \u001b[1;32mis\u001b[0m \u001b[1;34m'IRV'\u001b[0m\u001b[1;33m:\u001b[0m\u001b[1;33m\u001b[0m\u001b[0m\n\u001b[1;32m---> 18\u001b[1;33m             \u001b[1;32mif\u001b[0m \u001b[0mcandidates\u001b[0m\u001b[1;33m[\u001b[0m\u001b[0mwinner\u001b[0m\u001b[1;33m]\u001b[0m\u001b[1;33m.\u001b[0m\u001b[0mvotes\u001b[0m \u001b[1;33m<\u001b[0m \u001b[1;33m(\u001b[0m\u001b[0mpopulation\u001b[0m\u001b[1;33m.\u001b[0m\u001b[0mN\u001b[0m \u001b[1;33m/\u001b[0m \u001b[1;36m2\u001b[0m\u001b[1;33m)\u001b[0m\u001b[1;33m:\u001b[0m\u001b[1;33m\u001b[0m\u001b[0m\n\u001b[0m\u001b[0;32m     19\u001b[0m                 \u001b[0mloser\u001b[0m \u001b[1;33m=\u001b[0m \u001b[0mnp\u001b[0m\u001b[1;33m.\u001b[0m\u001b[0margmin\u001b[0m\u001b[1;33m(\u001b[0m\u001b[1;33m[\u001b[0m\u001b[0mcandidates\u001b[0m\u001b[1;33m[\u001b[0m\u001b[0mk\u001b[0m\u001b[1;33m]\u001b[0m\u001b[1;33m.\u001b[0m\u001b[0mvotes\u001b[0m \u001b[1;32mfor\u001b[0m \u001b[0mk\u001b[0m \u001b[1;32min\u001b[0m \u001b[0mcandidates\u001b[0m\u001b[1;33m]\u001b[0m\u001b[1;33m)\u001b[0m\u001b[1;33m\u001b[0m\u001b[0m\n\u001b[0;32m     20\u001b[0m \u001b[1;33m\u001b[0m\u001b[0m\n",
      "\u001b[1;31mKeyError\u001b[0m: 0"
     ]
    }
   ],
   "source": [
    "a.run('IRV')"
   ]
  },
  {
   "cell_type": "code",
   "execution_count": null,
   "metadata": {
    "collapsed": false
   },
   "outputs": [],
   "source": [
    "a.show()"
   ]
  },
  {
   "cell_type": "code",
   "execution_count": 108,
   "metadata": {
    "collapsed": false
   },
   "outputs": [
    {
     "data": {
      "image/png": "[encoded data removed]",
      "text/plain": [
       "<matplotlib.figure.Figure at 0x7f391e8b16a0>"
      ]
     },
     "metadata": {},
     "output_type": "display_data"
    }
   ],
   "source": [
    "c1 = candidate()\n",
    "c2 = candidate([1,1])\n",
    "pop = votePop(n=2000,center=[0,0])\n",
    "pop.show()"
   ]
  },
  {
   "cell_type": "code",
   "execution_count": 101,
   "metadata": {
    "collapsed": false
   },
   "outputs": [
    {
     "data": {
      "text/plain": [
       "[1, 2, 5]"
      ]
     },
     "execution_count": 101,
     "metadata": {},
     "output_type": "execute_result"
    }
   ],
   "source": [
    "[k for k in c1]"
   ]
  },
  {
   "cell_type": "code",
   "execution_count": null,
   "metadata": {
    "collapsed": true
   },
   "outputs": [],
   "source": []
  }
 ],
 "metadata": {
  "anaconda-cloud": {},
  "kernelspec": {
   "display_name": "Python [Root]",
   "language": "python",
   "name": "Python [Root]"
  },
  "language_info": {
   "codemirror_mode": {
    "name": "ipython",
    "version": 3
   },
   "file_extension": ".py",
   "mimetype": "text/x-python",
   "name": "python",
   "nbconvert_exporter": "python",
   "pygments_lexer": "ipython3",
   "version": "3.5.2"
  }
 },
 "nbformat": 4,
 "nbformat_minor": 0
}
