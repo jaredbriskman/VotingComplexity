{
 "cells": [
  {
   "cell_type": "code",
   "execution_count": 1,
   "metadata": {
    "collapsed": false
   },
   "outputs": [],
   "source": [
    "import numpy as np\n",
    "import matplotlib.pyplot as plt\n",
    "%matplotlib inline"
   ]
  },
  {
   "cell_type": "code",
   "execution_count": 2,
   "metadata": {
    "collapsed": false
   },
   "outputs": [],
   "source": [
    "class votePop:\n",
    "    \n",
    "    def __init__(self,n=1000,center=None,cov=None):\n",
    "        self.N = n\n",
    "        if center is None:\n",
    "            self.center = [0,0]\n",
    "        else:\n",
    "            self.center = center\n",
    "\n",
    "        if cov is None:\n",
    "            self.cov = [[1000,0],[0,1000]]\n",
    "        else:\n",
    "            self.cov = cov\n",
    "\n",
    "        self.voters = np.random.multivariate_normal(self.center,self.cov,self.N)\n",
    "        \n",
    "    def show(self):\n",
    "        x,y = self.voters.T\n",
    "        plt.plot(x,y,'x')\n",
    "        plt.axis('equal')\n",
    "        plt.show()\n"
   ]
  },
  {
   "cell_type": "code",
   "execution_count": 3,
   "metadata": {
    "collapsed": true
   },
   "outputs": [],
   "source": [
    "class candidate:\n",
    "    \n",
    "    def __init__(self,pos=None):\n",
    "        if pos is None:\n",
    "            self.pos = np.array([0,0])\n",
    "        else:\n",
    "            self.pos = np.array(pos)\n",
    "        self.votes = None"
   ]
  },
  {
   "cell_type": "code",
   "execution_count": 4,
   "metadata": {
    "collapsed": false
   },
   "outputs": [],
   "source": [
    "def election(population, candidates, method=None):\n",
    "    if method is None:\n",
    "        method = 'plurality'\n",
    "    \n",
    "    \n",
    "    positions = np.array([c.pos for c in candidates])\n",
    "    for c in candidates:\n",
    "        c.votes=0\n",
    "    voters = population.voters\n",
    "    \n",
    "    if method is 'plurality':\n",
    "        for voter in voters:\n",
    "            distances = np.linalg.norm(positions - voter, axis=-1) #along rows\n",
    "            candidates[np.argmin(distances)].votes += 1\n",
    "            \n",
    "    return np.argmax([c.votes for c in candidates])"
   ]
  },
  {
   "cell_type": "code",
   "execution_count": 45,
   "metadata": {
    "collapsed": false
   },
   "outputs": [
    {
     "data": {
      "image/png": "[encoded data removed]",
      "text/plain": [
       "<matplotlib.figure.Figure at 0x7f3923703240>"
      ]
     },
     "metadata": {},
     "output_type": "display_data"
    },
    {
     "data": {
      "text/plain": [
       "0"
      ]
     },
     "execution_count": 45,
     "metadata": {},
     "output_type": "execute_result"
    }
   ],
   "source": [
    "c1 = candidate()\n",
    "c2 = candidate([1,1])\n",
    "pop = votePop(n=2000,center=[0,0])\n",
    "pop.show()\n",
    "election(pop,[c1,c2])"
   ]
  },
  {
   "cell_type": "code",
   "execution_count": 72,
   "metadata": {
    "collapsed": false
   },
   "outputs": [],
   "source": [
    "class electionSweep():\n",
    "    def __init__(self, candidates, size=None, xres=25, yres=None , n=1000): #TODO:refactor with kwargs later\n",
    "        if size is None:\n",
    "            size = [[-1000,1000],[-1000,1000]]\n",
    "        [[self.xmin,self.xmax],[self.ymin,self.ymax]] = size\n",
    "        \n",
    "        self.xres = xres\n",
    "        if yres is None:\n",
    "            self.yres = self.xres\n",
    "        \n",
    "        self.N = n\n",
    "        self.C = candidates\n",
    "\n",
    "        self.xs = np.linspace(self.xmin, self.xmax, num=self.xres)\n",
    "        self.ys = np.linspace(self.ymin, self.ymax, num=self.yres)\n",
    "        self.res = np.zeros((self.xres, self.yres))\n",
    "        \n",
    "    def run(self):\n",
    "        for x in range(self.xres):\n",
    "            for y in range(self.yres):\n",
    "                pop = votePop(self.N,center=[self.xs[x],self.ys[y]])\n",
    "                self.res[self.xres-x-1,y] = election(pop, self.C) #Array filling vs image indexing\n",
    "    \n",
    "    def show(self):\n",
    "        print (np.array([c.pos for c in self.C]))\n",
    "        cxs, cys = np.array([c.pos for c in self.C]).T\n",
    "        plt.imshow(self.res, interpolation='none', cmap='Reds', extent=[self.xmin,self.xmax,self.ymin,self.ymax])\n",
    "        plt.scatter(cxs,cys)\n",
    "        plt.grid(False)\n",
    "        print(cxs,cys)"
   ]
  },
  {
   "cell_type": "code",
   "execution_count": 73,
   "metadata": {
    "collapsed": true
   },
   "outputs": [],
   "source": [
    "c1 = candidate([0,0])\n",
    "c2 = candidate([300,100])\n",
    "c3 = candidate([-100,-200])\n",
    "a = electionSweep([c1,c2,c3])"
   ]
  },
  {
   "cell_type": "code",
   "execution_count": 74,
   "metadata": {
    "collapsed": false
   },
   "outputs": [],
   "source": [
    "a.run()"
   ]
  },
  {
   "cell_type": "code",
   "execution_count": 75,
   "metadata": {
    "collapsed": false
   },
   "outputs": [
    {
     "name": "stdout",
     "output_type": "stream",
     "text": [
      "[[   0    0]\n",
      " [ 300  100]\n",
      " [-100 -200]]\n",
      "[   0  300 -100] [   0  100 -200]\n"
     ]
    },
    {
     "data": {
      "image/png": "[encoded data removed]",
      "text/plain": [
       "<matplotlib.figure.Figure at 0x7f391e7b12b0>"
      ]
     },
     "metadata": {},
     "output_type": "display_data"
    }
   ],
   "source": [
    "a.show()"
   ]
  },
  {
   "cell_type": "code",
   "execution_count": null,
   "metadata": {
    "collapsed": true
   },
   "outputs": [],
   "source": []
  }
 ],
 "metadata": {
  "anaconda-cloud": {},
  "kernelspec": {
   "display_name": "Python [Root]",
   "language": "python",
   "name": "Python [Root]"
  },
  "language_info": {
   "codemirror_mode": {
    "name": "ipython",
    "version": 3
   },
   "file_extension": ".py",
   "mimetype": "text/x-python",
   "name": "python",
   "nbconvert_exporter": "python",
   "pygments_lexer": "ipython3",
   "version": "3.5.2"
  }
 },
 "nbformat": 4,
 "nbformat_minor": 0
}
