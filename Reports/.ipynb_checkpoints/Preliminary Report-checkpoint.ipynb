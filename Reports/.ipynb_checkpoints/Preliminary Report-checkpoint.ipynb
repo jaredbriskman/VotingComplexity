{
 "cells": [
  {
   "cell_type": "markdown",
   "metadata": {},
   "source": [
    "# Voting Complexity:"
   ]
  },
  {
   "cell_type": "markdown",
   "metadata": {},
   "source": [
    "#### Jared Briskman"
   ]
  },
  {
   "cell_type": "markdown",
   "metadata": {},
   "source": [
    "## Abstract\n",
    "\n",
    "This project aims to simulate elections as an agent based phenomenon, with a distribution of voters existing in some discrete, multi-dimensional opinion space.\n",
    "Candidates exist as points in the space, and voters are (At least initially) are assumed to be normally distributed around a given center.\n",
    "Simulating multiple voting algorithms (Plurality, Approval, Condorcet, Borda, IRV) can be achieved by assuming that people's candidate preferences go in order of Euclidean distance.\n",
    "\n",
    "Using these simulations, limiting cases of Arrow's theorem (That no election system can satisfy all 5 fair election criterion) can be demonstrated, and visualizations of voter space can be generated.\n",
    "\n",
    "Further expansion can be done by simulating more voting systems, and moving to a higher dimensional space.\n",
    "Interesting data may also result from sweeping candidates across the space, and analyzing the results."
   ]
  },
  {
   "cell_type": "markdown",
   "metadata": {},
   "source": [
    "## Lit Review\n",
    "\n",
    "http://zesty.ca/voting/sim/\n",
    "An explanation of sprint 1 target and MVP.\n",
    "\n",
    "\n",
    "https://www.jstor.org/stable/1914083?seq=12#page_scan_tab_contents\n",
    "Arrow's theorem proof."
   ]
  },
  {
   "cell_type": "markdown",
   "metadata": {},
   "source": [
    "## Target\n",
    "\n",
    "First punchline graphs as the same ones from zesty above. These can be analyzed as how different voting systems affect candidate's chances of winning under different political orientations.\n",
    "E.G. Here, under IRV, one can see candidate 3 has an \"M\" shaped winning space.\n",
    "This is non-monotonic leading to very interesting results: more approval for the candidate could cause worse results, and less approval could cause the candidate to win.\n",
    "\n",
    "Another punchline graph could result from changing the delta between two candidates: E.G keeping one stable and sweeping the other, then plotting overall odds of winning."
   ]
  },
  {
   "cell_type": "markdown",
   "metadata": {},
   "source": [
    "![Target](http://zesty.ca/voting/sim/93,49_79,42_27,45_plu.png)"
   ]
  },
  {
   "cell_type": "markdown",
   "metadata": {},
   "source": [
    "## Results\n",
    "\n",
    "Plurality voting, election simulation and visualization are all working. This allows replication some of the targeted experiments above, E.G.\n",
    "\n",
    "![demo1](../Code/demo1.png)\n",
    "\n",
    "With an arbitrary number of candidates, $\\sigma$ and $\\mu$ of population distribution variable.\n",
    "\n",
    "Here, we can see (Minus some coloring problems) that the addition of similar candidates weakens a voterbase with plurality voting."
   ]
  },
  {
   "cell_type": "markdown",
   "metadata": {},
   "source": [
    "## Learning Goals\n",
    "\n",
    "Trying to find the self organizing criticality inherent to election systems. (I do believe it is there, it just may be a task to tease it out)\n",
    "Data visualization in python, along with high order complexity algorithm design for voting systems.\n",
    "Technical writing in an easy to understand fashion: I want to be able to clearly and succinctly share my methods and results."
   ]
  }
 ],
 "metadata": {
  "anaconda-cloud": {},
  "kernelspec": {
   "display_name": "Python [Root]",
   "language": "python",
   "name": "Python [Root]"
  },
  "language_info": {
   "codemirror_mode": {
    "name": "ipython",
    "version": 3
   },
   "file_extension": ".py",
   "mimetype": "text/x-python",
   "name": "python",
   "nbconvert_exporter": "python",
   "pygments_lexer": "ipython3",
   "version": "3.5.2"
  }
 },
 "nbformat": 4,
 "nbformat_minor": 0
}
