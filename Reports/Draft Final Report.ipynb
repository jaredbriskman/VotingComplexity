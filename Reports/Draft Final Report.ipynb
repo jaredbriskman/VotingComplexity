{
 "cells": [
  {
   "cell_type": "markdown",
   "metadata": {},
   "source": [
    "# Ochlocracy:"
   ]
  },
  {
   "cell_type": "markdown",
   "metadata": {},
   "source": [
    "#### Jared Briskman"
   ]
  },
  {
   "cell_type": "markdown",
   "metadata": {},
   "source": [
    "## Abstract\n",
    "\n",
    "Building off of Arrow's impossibility theorem, I consider three systems for running elections: Plurality, IRV and Equality. Using a two dimensional political opinion model, with a discrete distribution of voters and a ballot of candidate points, I am able to simulate the results of a parameter space of elections. These visualizations allow the exploration of limiting cases of the fairness of each system. This investigation yields insight into how to decide which electoral system is best suited for a particular election."
   ]
  },
  {
   "cell_type": "markdown",
   "metadata": {},
   "source": [
    "## Lit Review\n",
    "\n",
    "http://zesty.ca/voting/sim/\n",
    "An explanation of sprint 1 target and MVP.\n",
    "\n",
    "\n",
    "https://www.jstor.org/stable/1914083?seq=12#page_scan_tab_contents\n",
    "Arrow's theorem proof."
   ]
  },
  {
   "cell_type": "markdown",
   "metadata": {},
   "source": [
    "## Target\n",
    "\n",
    "First punchline graphs as the same ones from zesty above. These can be analyzed as how different voting systems affect candidate's chances of winning under different political orientations.\n",
    "E.G. Here, under IRV, one can see candidate 3 has an \"M\" shaped winning space.\n",
    "This is non-monotonic leading to very interesting results: more approval for the candidate could cause worse results, and less approval could cause the candidate to win.\n",
    "\n",
    "Another punchline graph could result from changing the delta between two candidates: E.G keeping one stable and sweeping the other, then plotting overall odds of winning."
   ]
  },
  {
   "cell_type": "markdown",
   "metadata": {},
   "source": [
    "![Target](http://zesty.ca/voting/sim/93,49_79,42_27,45_plu.png)"
   ]
  },
  {
   "cell_type": "markdown",
   "metadata": {},
   "source": [
    "## Election Methods\n",
    "\n",
    "Arrow's Impossibility Theorem states that no election may be simultaneously:\n",
    "- Deterministic (Same result every time)\n",
    "- Monotonic (Clear, singular directives)\n",
    "- Unanimous (Respecting of the will of the people)\n",
    "- Non-Imposing (All candidates are viable)\n",
    "- Non-Dictatorial (Not reducible to a single voter’s decision)\n",
    "\n",
    "All of these criteria are required in order to hold a truly \"fair\" election. In light of the above claim, there is no objectively optimal election method. Instead, different methods satisfy different subsets of the above criteria, and a method may be more or less suitable to any given situation.\n",
    "\n",
    "The methods considered in this paper are:\n",
    "\n",
    "#### Plurality Voting\n",
    "In a plurality election, each voter casts a single vote towards their most preferred candidate. At the end, the candidate with the most votes is declared the winner.\n",
    "\n",
    "#### Instant Runoff Voting\n",
    "In IRV, also called Hare or Single Transferable Voting, an initial round of plurality voting occurs. However, if the candidate with the most votes does not have a majority of the population (More than half), the candidate with the least votes is removed from the ballot, and the election is run again. The process continues until one candidate recieves more than half of the votes, and they are declared the winner.\n",
    "\n",
    "#### Equality Voting\n",
    "In an \"equality\" election, a candidate is chosen randomly to be the winner. No candidate has any advantage over the other, and no votes are cast. "
   ]
  },
  {
   "cell_type": "markdown",
   "metadata": {},
   "source": [
    "## Methodology\n",
    "\n",
    "I chose to use the common model of political stance as a two dimensional euclidian space, spanned by two  orthogonal opinion continuums, often depicted as follows:\n",
    "\n",
    "![Chart](../Code/Political_chart.svg.png)\n",
    "\n",
    "The specific axes labels are fairly irrelevant to the model, as long as they are linearly independent. The origin, (0,0) is the absolute neutral opinion.\n",
    "\n",
    "Here, the voting population is represented a discretely sampled normal distribution of voters of size N, with a mean (or center) μ and a covariance (or spread) σ uniform in both the x and y axes. Here each \"x\" represents an individual voter with some opinion in the political space.\n",
    "\n",
    "![Dist](../Code/dist.png)\n",
    "\n",
    "In a similar fashion, candidates may be represented as points in the space, with their location reflecting their political platform:\n",
    "\n",
    "![Cand](../Code/cand.png)\n",
    "\n",
    "Now, μ may be swept across both axes of the opinion spectrum, representing the same candidates in different political climates. For example, in the case of four different centers of opinion, each of the four climates would look like the following:\n",
    "\n",
    "##### Top Left\n",
    "![Top Left](../Code/tl.png)\n",
    "##### Top Right\n",
    "![Top Right](../Code/tr.png)\n",
    "##### Bottom Left\n",
    "![Bottom Left](../Code/bl.png)\n",
    "##### Bottom Right\n",
    "![Bottom Right](../Code/br.png)\n",
    "\n",
    "Notice that the voterbase moves, not the candidates. \n",
    "\n",
    "Each voter's preferences are described by the euclidian distance between them and each of the candidates, ranked in increasing order (That is, they prefer the candidate closest to them).\n",
    "\n",
    "Each of these elections can now be run under the variety of election algorithms described earlier, producing a winning candidate in each case. This may be represented as follows: \n",
    "\n",
    "![Low quality](../Code/3lq.png)\n",
    "\n",
    "Here, the axes are the same as before, the political spectum. The color map shows which candidate is predicted by the model to win if the population was centered around that sector. In this figure, White and Brown win if the population is polarized to the bottom left or upper right respectively, and the moderate orange wins if the population is centered in the upper left or lower right. By sheer area, orange seems like the most favored candidate.\n",
    "\n",
    "A higher resolution sweep of the space results in a perhaps more intuitive figure of the symmetric situation:\n",
    "\n",
    "![demo2](../Code/demo2.png)\n",
    "\n",
    "Orange is now revealed to be much less favored than previously interpreted, being squeezed into a narrow band of victory conditions."
   ]
  },
  {
   "cell_type": "markdown",
   "metadata": {},
   "source": [
    "## Experiments\n",
    "\n",
    "#### Plurality\n",
    "\n",
    "A common criticism of plurality voting centers around the effects of a minority candidate on a two candidate election. In order to investigate this sentiment, we may first consider a two candidate election sweep under plurality:\n",
    "\n",
    "![tiegood](../Code/tiegood.png)\n",
    "\n",
    "In this figure, Brown is not entirely dominant, but certainly the favored candidate across most of the space. \n",
    "\n",
    "Now, we can add in a minority candidate even more Up and a smidge more Right:\n",
    "\n",
    "![tiebad](../Code/tiebad.png)\n",
    "\n",
    "Even though most of the landscape would still prefer the Orange cadidate to the White candidate in this case, Orange becomes much less favored. This introduces the conditions for tactical voting. A voter that supports Brown may want to cast their vote for orange, to artificially shift this distribution more towards the prior figure.\n",
    "\n",
    "As an advantage, Plurality voting is very efficient to calculate, and logistically simple to implement.\n",
    "\n",
    "#### IRV\n",
    "Now, we may consider IRV compared to Plurality with the same canditate ballot. A very simple case is four candidates spread symetrically across the spectrum. With Plurality, the sweep looks exactly as expected:\n",
    "\n",
    "![4plurality](../Code/4quadplur.png)\n",
    "\n",
    "When the same election is run with IRV however, less intuitive results occur:\n",
    "![4IRV](../Code/4quadIRV.png)\n",
    "\n",
    "The feature of note here is the \"bloom\" seen around the origin of the graph. As voter opinion becomes more uniformly distributed across all the candidates, IRV becomes very sensitive to individual opinions in the discrete voter distribution. If there is a single outlier, they can disproportionately effect a mostly neutral election. \n",
    "\n",
    "IRV demonstrates more interesting behavior when applied to a less idealized candidate ballot. Let us consider an asymmetric distribution of 4 candidates, first with Plurality:\n",
    "\n",
    "![4plur](../Code/4plur.png)\n",
    "\n",
    "Here, Red is the most moderate candidate, surrounded by more polarized options. While Red is the most acceptable the population as a whole, their winning conditions are rather small, requiring a moderate $\\mu$. Each candidate's path to success is clear and monotonic: The smaller the distance between each candidate and $\\mu$, the better their chance of winning.\n",
    "\n",
    "Now let us consider the same election under IRV:\n",
    "\n",
    "![4IRVhq](../Code/4irvhq.png)\n",
    "\n",
    "The figure shares the same overall shape, but contains disjoint regions of success for candidates, along with concave perimiters of success regions. For example, consider White. If $\\mu$ is around (0,300), in the zone where Pink wins, White has a success condition both to the left and right, or closer and farther away. Critically, this means that White can win the election both by being more or less popular. \n",
    "\n",
    "\n",
    "This non-monotonic behavior is counterintuitive, but is a result of the mechanics of IRV. If the current descending order of populatity is (Pink, White, Brown, Red), White can win by giving more votes to Red, causing Brown to be eliminated first. Then a higher percentage of brown's votes can be transferred to White. (*this needs to be refactored, with demostration figures?*)\n",
    "\n",
    "#### Population size\n",
    "\n",
    "Another parameter to consider when choosing an election method is the size of your electorate. For the same candidate ballot, and elections using IRV, we can look at three separate orders of magnitude of N.\n",
    "\n",
    "##### N=200\n",
    "![200](../Code/3triIRV200.png)\n",
    "##### N=2,000\n",
    "![200](../Code/3triIRV2000.png)\n",
    "##### N=20,000\n",
    "![200](../Code/3triPlur2000.png)\n",
    "\n",
    "As N increases, the discrete distribution of voters becomes a better and better approximation of the continuous normal distribution, and individual voter opinions matter less. This smooths out the sensitivity of IRV to dedicated outlier voters, maintaining the absence of tactical voting while decreasing the drawbacks of IRV. Therefore, IRV may have less drawbacks in larger scale elections. \n",
    "\n",
    "#### Equality Voting\n",
    "\n",
    "We may also consider Equality elections in a similar fashion to Plurality and IRV, although the results are mostly invariant of most of the model parameters:\n",
    "\n",
    "![equality](../Code/random.png)\n",
    "\n",
    "In this figure, the positions of candidates, N, $\\sigma$ and $\\mu$ of the populace all have no effect on the outcome of the sweep. The sweep result is also non-deterministic. On the upside, there is no tactical voting, and all candidates are viable. It is exceedingly non-dictatorial, and there are no split objectives for candidates.\n",
    "\n",
    "#### Conclusions\n",
    "\n",
    "Even though there are no completely fair election systems, use of this model can help portray how different systems are applicable to certain conditions. Plurality voting is straightforward and rather robust, but supresses minority opinions. IRV voting can be sensitive to outliers, and foster split incentives for candidates, but does allow for minority candidates, and becomes more reasonable at scale. Equality elections do provide a very unbiased result, but are not influenced by the will of the people in any way, and fail to produce reliable results.\n",
    "\n",
    "Whether using these, some hybrid or even a completely different election system, it is imperative to consider which system optimizes for the most important aspects of the election."
   ]
  },
  {
   "cell_type": "markdown",
   "metadata": {},
   "source": [
    "## Learning Goals\n",
    "\n",
    "### Original statement\n",
    "Trying to find the self organizing criticality inherent to election systems. (I do believe it is there, it just may be a task to tease it out)\n",
    "Data visualization in python, along with high order complexity algorithm design for voting systems.\n",
    "Technical writing in an easy to understand fashion: I want to be able to clearly and succinctly share my methods and results.\n",
    "\n",
    "### Thoughts in sprint 2\n",
    "I've met the algorithm design and data visualization goals I had, which came in the form of implementing elections and reading much more matplotlib documentation than I needed to in order to generate the graphs seen above. Also, practicing good object oriented structure is nice, and I see myself echoing a lot of Allen's style in my own code.\n",
    "\n",
    "I'm confident the technical writing component will get there when I have things to really write about in the next sprint. \n",
    "\n",
    "The first goal is really the most unsure, and also the one I've spent the most time thinking about. I'm not sure of what conditions to create and transformation to apply to the data to demonstrate self organized criticality. I think plotting the different rounds of IRV with multiple candidates may be a good angle, will play around with over break.\n",
    "\n",
    "### Current Considerations\n",
    "I'm in much the same place as before, although having done some technical writing to explain the experiments performed. I still am interested in poking at the fractal nature of electoral sweeps as N decreases, but it may be out of scope for the time left in the project. Biggest problem with current report is number 4 on the list: \"As much as possible, show your results in a way that allows the reader to reach the conclusion you are trying to reach (as opposed to describing results and asserting conclusions).\" This version is very much on the latter half, and through some editing and perhaps a few choice visuals, could be more towards the former."
   ]
  },
  {
   "cell_type": "code",
   "execution_count": null,
   "metadata": {
    "collapsed": true
   },
   "outputs": [],
   "source": []
  }
 ],
 "metadata": {
  "anaconda-cloud": {},
  "kernelspec": {
   "display_name": "Python [Root]",
   "language": "python",
   "name": "Python [Root]"
  },
  "language_info": {
   "codemirror_mode": {
    "name": "ipython",
    "version": 3
   },
   "file_extension": ".py",
   "mimetype": "text/x-python",
   "name": "python",
   "nbconvert_exporter": "python",
   "pygments_lexer": "ipython3",
   "version": "3.5.2"
  }
 },
 "nbformat": 4,
 "nbformat_minor": 0
}
